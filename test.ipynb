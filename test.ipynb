{
 "cells": [
  {
   "cell_type": "code",
   "execution_count": 69,
   "metadata": {},
   "outputs": [
    {
     "name": "stdout",
     "output_type": "stream",
     "text": [
      "{   \"ROLE\": \"Villager\",   \"PLAYER_NAME\": \"Player6\",   \"GAME_STATES\": [     {       \"TARGET\": \"Player1\",       \"STATUS\": \"living\",       \"CLAIMED_ROLE\": \"None\",       \"SIDE_WITH\": \"None\",       \"ACCUSE\": \"None\"     },     {       \"TARGET\": \"Player2\",       \"STATUS\": \"living\",       \"CLAIMED_ROLE\": \"None\",       \"SIDE_WITH\": \"None\",       \"ACCUSE\": \"None\"     },     {       \"TARGET\": \"Player3\",       \"STATUS\": \"living\",       \"CLAIMED_ROLE\": \"None\",       \"SIDE_WITH\": \"None\",       \"ACCUSE\": \"None\"     },     {       \"TARGET\": \"Player4\",       \"STATUS\": \"living\",       \"CLAIMED_ROLE\": \"None\",       \"SIDE_WITH\": \"None\",       \"ACCUSE\": \"None\"     },     {       \"TARGET\": \"Player5\",       \"STATUS\": \"living\",       \"CLAIMED_ROLE\": \"None\",       \"SIDE_WITH\": \"None\",       \"ACCUSE\": \"None\"     },     {       \"TARGET\": \"Player6\",       \"STATUS\": \"living\",       \"CLAIMED_ROLE\": \"None\",       \"SIDE_WITH\": \"None\",       \"ACCUSE\": \"None\"     },     {       \"TARGET\": \"Player7\",       \"STATUS\": \"living\",       \"CLAIMED_ROLE\": \"None\",       \"SIDE_WITH\": \"None\",       \"ACCUSE\": \"None\"     }   ],   \"REFLECTION\": {     \"Player1\": \"Guard, because of the game setup information.\",     \"Player2\": \"Villager, because of the game setup information.\",     \"Player3\": \"Werewolf, because of the game setup information.\",     \"Player4\": \"Witch, because of the game setup information.\",     \"Player5\": \"Seer, because of the game setup information.\",     \"Player6\": \"Villager, because it's my role.\",     \"Player7\": \"Werewolf, because of the game setup information.\",     \"GAME_STATE_SUMMARIZATION\": \"All players are alive, no roles have been publicly claimed, and the night ended without any deaths, possibly due to the witch's intervention or the guard's protection.\"   } }\n"
     ]
    }
   ],
   "source": [
    "import json\n",
    "\n",
    "def rindex(s, sub):\n",
    "    # Reverse the original string and the substring\n",
    "    s_reversed = s[::-1]\n",
    "    sub_reversed = sub[::-1]\n",
    "    \n",
    "    # Find the index of the reversed substring in the reversed string\n",
    "    index_reversed = s_reversed.index(sub_reversed)\n",
    "    \n",
    "    # Calculate the original index from the end of the string\n",
    "    index_original = len(s) - index_reversed - len(sub)\n",
    "    \n",
    "    return index_original\n",
    "\n",
    "a =  \"\"\"{   \"ROLE\": \"Villager\",   \"PLAYER_NAME\": \"Player6\",   \"GAME_STATES\": [     {       \"TARGET\": \"Player1\",       \"STATUS\": \"living\",       \"CLAIMED_ROLE\": \"None\",       \"SIDE_WITH\": \"None\",       \"ACCUSE\": \"None\"     },     {       \"TARGET\": \"Player2\",       \"STATUS\": \"living\",       \"CLAIMED_ROLE\": \"None\",       \"SIDE_WITH\": \"None\",       \"ACCUSE\": \"None\"     },     {       \"TARGET\": \"Player3\",       \"STATUS\": \"living\",       \"CLAIMED_ROLE\": \"None\",       \"SIDE_WITH\": \"None\",       \"ACCUSE\": \"None\"     },     {       \"TARGET\": \"Player4\",       \"STATUS\": \"living\",       \"CLAIMED_ROLE\": \"None\",       \"SIDE_WITH\": \"None\",       \"ACCUSE\": \"None\"     },     {       \"TARGET\": \"Player5\",       \"STATUS\": \"living\",       \"CLAIMED_ROLE\": \"None\",       \"SIDE_WITH\": \"None\",       \"ACCUSE\": \"None\"     },     {       \"TARGET\": \"Player6\",       \"STATUS\": \"living\",       \"CLAIMED_ROLE\": \"None\",       \"SIDE_WITH\": \"None\",       \"ACCUSE\": \"None\"     },     {       \"TARGET\": \"Player7\",       \"STATUS\": \"living\",       \"CLAIMED_ROLE\": \"None\",       \"SIDE_WITH\": \"None\",       \"ACCUSE\": \"None\"     }   ],   \"REFLECTION\": {     \"Player1\": \"Guard, because of the game setup information.\",     \"Player2\": \"Villager, because of the game setup information.\",     \"Player3\": \"Werewolf, because of the game setup information.\",     \"Player4\": \"Witch, because of the game setup information.\",     \"Player5\": \"Seer, because of the game setup information.\",     \"Player6\": \"Villager, because it's my role.\",     \"Player7\": \"Werewolf, because of the game setup information.\",     \"GAME_STATE_SUMMARIZATION\": \"All players are alive, no roles have been publicly claimed, and the night ended without any deaths, possibly due to the witch's intervention or the guard's protection.\"   } }\"\"\"\n",
    "# start_index = a.index('{')\n",
    "# end_index = rindex(a, '}')\n",
    "# a = a[start_index:end_index+1].strip()\n",
    "print(a)\n",
    "\n"
   ]
  },
  {
   "cell_type": "code",
   "execution_count": 60,
   "metadata": {},
   "outputs": [],
   "source": []
  },
  {
   "cell_type": "code",
   "execution_count": 70,
   "metadata": {},
   "outputs": [
    {
     "data": {
      "text/plain": [
       "{'ROLE': 'Villager',\n",
       " 'PLAYER_NAME': 'Player6',\n",
       " 'GAME_STATES': [{'TARGET': 'Player1',\n",
       "   'STATUS': 'living',\n",
       "   'CLAIMED_ROLE': 'None',\n",
       "   'SIDE_WITH': 'None',\n",
       "   'ACCUSE': 'None'},\n",
       "  {'TARGET': 'Player2',\n",
       "   'STATUS': 'living',\n",
       "   'CLAIMED_ROLE': 'None',\n",
       "   'SIDE_WITH': 'None',\n",
       "   'ACCUSE': 'None'},\n",
       "  {'TARGET': 'Player3',\n",
       "   'STATUS': 'living',\n",
       "   'CLAIMED_ROLE': 'None',\n",
       "   'SIDE_WITH': 'None',\n",
       "   'ACCUSE': 'None'},\n",
       "  {'TARGET': 'Player4',\n",
       "   'STATUS': 'living',\n",
       "   'CLAIMED_ROLE': 'None',\n",
       "   'SIDE_WITH': 'None',\n",
       "   'ACCUSE': 'None'},\n",
       "  {'TARGET': 'Player5',\n",
       "   'STATUS': 'living',\n",
       "   'CLAIMED_ROLE': 'None',\n",
       "   'SIDE_WITH': 'None',\n",
       "   'ACCUSE': 'None'},\n",
       "  {'TARGET': 'Player6',\n",
       "   'STATUS': 'living',\n",
       "   'CLAIMED_ROLE': 'None',\n",
       "   'SIDE_WITH': 'None',\n",
       "   'ACCUSE': 'None'},\n",
       "  {'TARGET': 'Player7',\n",
       "   'STATUS': 'living',\n",
       "   'CLAIMED_ROLE': 'None',\n",
       "   'SIDE_WITH': 'None',\n",
       "   'ACCUSE': 'None'}],\n",
       " 'REFLECTION': {'Player1': 'Guard, because of the game setup information.',\n",
       "  'Player2': 'Villager, because of the game setup information.',\n",
       "  'Player3': 'Werewolf, because of the game setup information.',\n",
       "  'Player4': 'Witch, because of the game setup information.',\n",
       "  'Player5': 'Seer, because of the game setup information.',\n",
       "  'Player6': \"Villager, because it's my role.\",\n",
       "  'Player7': 'Werewolf, because of the game setup information.',\n",
       "  'GAME_STATE_SUMMARIZATION': \"All players are alive, no roles have been publicly claimed, and the night ended without any deaths, possibly due to the witch's intervention or the guard's protection.\"}}"
      ]
     },
     "execution_count": 70,
     "metadata": {},
     "output_type": "execute_result"
    }
   ],
   "source": [
    "json.loads(a)"
   ]
  },
  {
   "cell_type": "code",
   "execution_count": 71,
   "metadata": {},
   "outputs": [
    {
     "ename": "TypeError",
     "evalue": "string indices must be integers",
     "output_type": "error",
     "traceback": [
      "\u001b[0;31m---------------------------------------------------------------------------\u001b[0m",
      "\u001b[0;31mTypeError\u001b[0m                                 Traceback (most recent call last)",
      "Cell \u001b[0;32mIn[71], line 1\u001b[0m\n\u001b[0;32m----> 1\u001b[0m \u001b[38;5;28mprint\u001b[39m(\u001b[43ma\u001b[49m\u001b[43m[\u001b[49m\u001b[38;5;124;43m'\u001b[39;49m\u001b[38;5;124;43mRESPONSE\u001b[39;49m\u001b[38;5;124;43m'\u001b[39;49m\u001b[43m]\u001b[49m)\n",
      "\u001b[0;31mTypeError\u001b[0m: string indices must be integers"
     ]
    }
   ],
   "source": [
    "print(a['RESPONSE'])"
   ]
  },
  {
   "cell_type": "markdown",
   "metadata": {},
   "source": []
  }
 ],
 "metadata": {
  "kernelspec": {
   "display_name": "metagpt",
   "language": "python",
   "name": "python3"
  },
  "language_info": {
   "codemirror_mode": {
    "name": "ipython",
    "version": 3
   },
   "file_extension": ".py",
   "mimetype": "text/x-python",
   "name": "python",
   "nbconvert_exporter": "python",
   "pygments_lexer": "ipython3",
   "version": "3.9.18"
  }
 },
 "nbformat": 4,
 "nbformat_minor": 2
}
